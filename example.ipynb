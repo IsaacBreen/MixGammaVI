{
 "cells": [
  {
   "cell_type": "code",
   "execution_count": 26,
   "metadata": {},
   "outputs": [],
   "source": [
    "from mix_gamma_vi import mix_gamma_vi\n",
    "import numpy as np\n",
    "import tensorflow as tf\n",
    "import tensorflow_probability as tfp\n",
    "from pprint import pprint\n",
    "\n",
    "tfd = tfp.distributions\n",
    "\n",
    "import time"
   ]
  },
  {
   "cell_type": "code",
   "execution_count": 6,
   "metadata": {},
   "outputs": [],
   "source": [
    "# Generate 1000 data from a mixture of gamma two gamma distributions.\n",
    "N = 1000\n",
    "pi_true = [0.5, 0.5]\n",
    "a_true  = [20,  80 ] \n",
    "B_true  = [20,  40 ]\n",
    "\n",
    "mix_gamma = tfp.distributions.MixtureSameFamily(\n",
    "    mixture_distribution=tfd.Categorical(probs=pi_true),\n",
    "    components_distribution=tfd.Gamma(concentration=a_true, rate=B_true))\n",
    "\n",
    "x = mix_gamma.sample((N,1))"
   ]
  },
  {
   "cell_type": "code",
   "execution_count": 20,
   "metadata": {},
   "outputs": [
    {
     "data": {
      "text/plain": [
       "{'pi': <tf.Tensor: id=4201, shape=(1, 2), dtype=float32, numpy=array([[0.50948393, 0.49051604]], dtype=float32)>,\n",
       " 'beta': <tf.Tensor: id=4208, shape=(1, 2), dtype=float32, numpy=array([[1.0013412, 1.9965338]], dtype=float32)>,\n",
       " 'alpha': <tf.Tensor: id=4212, shape=(1, 2), dtype=float32, numpy=array([[20.712543, 82.77388 ]], dtype=float32)>}"
      ]
     },
     "execution_count": 20,
     "metadata": {},
     "output_type": "execute_result"
    }
   ],
   "source": [
    "# import mix_gamma_vi function\n",
    "from mix_gamma_vi import mix_gamma_vi\n",
    "\n",
    "# Fit a model\n",
    "fit = mix_gamma_vi(x, 2)\n",
    "\n",
    "# Get the fitted distribution\n",
    "distribution = fit.distribution()\n",
    "\n",
    "# Get the means of the parameters under the fitted posterior\n",
    "distribution.mean()"
   ]
  },
  {
   "cell_type": "code",
   "execution_count": 34,
   "metadata": {},
   "outputs": [
    {
     "data": {
      "text/plain": [
       "array([[0.48129514, 0.51870483]], dtype=float32)"
      ]
     },
     "execution_count": 34,
     "metadata": {},
     "output_type": "execute_result"
    }
   ],
   "source": [
    "# We can also sample from the fitted posterior\n",
    "k=distribution.sample()\n",
    "k['pi'].numpy()"
   ]
  },
  {
   "cell_type": "code",
   "execution_count": 27,
   "metadata": {},
   "outputs": [
    {
     "name": "stdout",
     "output_type": "stream",
     "text": [
      "{'alpha': <tf.Tensor: id=4452, shape=(1, 2), dtype=float32, numpy=array([[18.814205, 86.66455 ]], dtype=float32)>,\n",
      " 'beta': <tf.Tensor: id=4430, shape=(1, 2), dtype=float32, numpy=array([[1.0066558, 1.9816424]], dtype=float32)>,\n",
      " 'pi': <tf.Tensor: id=4412, shape=(1, 2), dtype=float32, numpy=array([[0.49259877, 0.5074012 ]], dtype=float32)>}\n"
     ]
    }
   ],
   "source": [
    "pprint(distribution.sample())"
   ]
  },
  {
   "cell_type": "code",
   "execution_count": 9,
   "metadata": {},
   "outputs": [
    {
     "name": "stdout",
     "output_type": "stream",
     "text": [
      "{'pi': <tf.Tensor: id=4032, shape=(1, 2), dtype=float32, numpy=array([[0.49459496, 0.50540507]], dtype=float32)>, 'beta': <tf.Tensor: id=4050, shape=(1, 2), dtype=float32, numpy=array([[1.0032818, 1.9982815]], dtype=float32)>, 'alpha': <tf.Tensor: id=4072, shape=(1, 2), dtype=float32, numpy=array([[20.902206, 77.34561 ]], dtype=float32)>}\n"
     ]
    }
   ],
   "source": [
    "fit = mix_gamma_vi(x, 2)\n",
    "\n",
    "distribution = fit.distribution()\n",
    "\n",
    "sample = distribution.sample()\n",
    "\n",
    "print(sample)"
   ]
  },
  {
   "cell_type": "code",
   "execution_count": 14,
   "metadata": {},
   "outputs": [
    {
     "data": {
      "text/plain": [
       "{'pi': <tf.Tensor: id=4075, shape=(1, 2), dtype=float32, numpy=array([[0.50948393, 0.49051604]], dtype=float32)>,\n",
       " 'beta': <tf.Tensor: id=4082, shape=(1, 2), dtype=float32, numpy=array([[1.0013412, 1.9965338]], dtype=float32)>,\n",
       " 'alpha': <tf.Tensor: id=4086, shape=(1, 2), dtype=float32, numpy=array([[20.712543, 82.77388 ]], dtype=float32)>}"
      ]
     },
     "execution_count": 14,
     "metadata": {},
     "output_type": "execute_result"
    }
   ],
   "source": [
    "distribution.mean()"
   ]
  },
  {
   "cell_type": "code",
   "execution_count": null,
   "metadata": {},
   "outputs": [],
   "source": [
    "\n",
    "\n",
    "\n",
    "\n",
    "\n",
    "\n",
    "\n",
    "\n",
    "\n",
    "\n",
    "\n",
    "\n"
   ]
  }
 ],
 "metadata": {
  "kernelspec": {
   "display_name": "Python 3.7 (py37)",
   "language": "python",
   "name": "py37"
  },
  "language_info": {
   "codemirror_mode": {
    "name": "ipython",
    "version": 3
   },
   "file_extension": ".py",
   "mimetype": "text/x-python",
   "name": "python",
   "nbconvert_exporter": "python",
   "pygments_lexer": "ipython3",
   "version": "3.7.1"
  }
 },
 "nbformat": 4,
 "nbformat_minor": 2
}
