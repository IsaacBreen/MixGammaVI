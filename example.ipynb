{
 "cells": [
  {
   "cell_type": "markdown",
   "metadata": {},
   "source": [
    "# Example Usage for `mix_gamma_vi`"
   ]
  },
  {
   "cell_type": "code",
   "execution_count": 10,
   "metadata": {},
   "outputs": [],
   "source": [
    "from mix_gamma_vi import mix_gamma_vi\n",
    "import numpy as np\n",
    "import tensorflow as tf\n",
    "import tensorflow_probability as tfp"
   ]
  },
  {
   "cell_type": "markdown",
   "metadata": {},
   "source": [
    "## Generate Dataset"
   ]
  },
  {
   "cell_type": "markdown",
   "metadata": {},
   "source": [
    "Generate 10000 data from a mixture of gamma two gamma distributions."
   ]
  },
  {
   "cell_type": "code",
   "execution_count": 11,
   "metadata": {},
   "outputs": [],
   "source": [
    "N = 10000\n",
    "pi_true = [0.5, 0.5]\n",
    "a_true  = [20,  80 ]\n",
    "B_true  = [20,  40 ]\n",
    "\n",
    "mix_gamma = tfp.distributions.MixtureSameFamily(\n",
    "    mixture_distribution=tfp.distributions.Categorical(probs=pi_true),\n",
    "    components_distribution=tfp.distributions.Gamma(concentration=a_true, rate=B_true))\n",
    "\n",
    "x = mix_gamma.sample(N)"
   ]
  },
  {
   "cell_type": "markdown",
   "metadata": {},
   "source": [
    "## Variational Inference Under the Shape-Mean Parameterisation"
   ]
  },
  {
   "cell_type": "markdown",
   "metadata": {},
   "source": [
    "The defualt parameterisation for the function `mix_gamma_vi` is the mean-shape parameterisation under which the variational approximations to the posterior are\n",
    "\n",
    "\\begin{align*}\n",
    "q^*(\\mathbf{\\pi}) &= \\mathrm{Dirichlet} \\left( \\zeta_1, ..., \\zeta_K \\right) ,  \\\\\n",
    "q^*(\\alpha_k) &= \\mathcal{N}(\\hat{\\alpha}_k, \\sigma_j^2) ,  \\\\\n",
    "q^* (\\mu_k) &=  \\operatorname{Inv-Gamma} \\left( \\gamma_k, \\lambda_k \\right) .  \n",
    "\\end{align*}"
   ]
  },
  {
   "cell_type": "markdown",
   "metadata": {},
   "source": [
    "\\begin{align*}\n",
    "q^*(\\mathbf{\\pi}) &= \\mathrm{Dirichlet} \\left( \\zeta_1, ..., \\zeta_K \\right) .\n",
    "\\end{align*}"
   ]
  },
  {
   "cell_type": "markdown",
   "metadata": {},
   "source": [
    "The product approximates the joint posterior\n",
    "\n",
    "\\begin{align*}\n",
    "p(\\mathbf{\\pi}, \\mathbf{\\alpha}, \\mathbf{\\mu} \\mid \\mathbf{x}) &= q^*(\\mathbf{\\pi}) \\prod_{k=1}^K q^*(\\alpha_k) q^*(\\mu_k).\n",
    "\\end{align*}"
   ]
  },
  {
   "cell_type": "code",
   "execution_count": 12,
   "metadata": {},
   "outputs": [
    {
     "data": {
      "text/plain": [
       "{'pi': <tf.Tensor: id=2699, shape=(1, 2), dtype=float32, numpy=array([[0.502409  , 0.49759102]], dtype=float32)>,\n",
       " 'mu': <tf.Tensor: id=2706, shape=(1, 2), dtype=float32, numpy=array([[1.0024861, 2.0024283]], dtype=float32)>,\n",
       " 'alpha': <tf.Tensor: id=2710, shape=(1, 2), dtype=float32, numpy=array([[20.434174, 77.96415 ]], dtype=float32)>}"
      ]
     },
     "execution_count": 12,
     "metadata": {},
     "output_type": "execute_result"
    }
   ],
   "source": [
    "# Fit a model\n",
    "fit = mix_gamma_vi(x, 2)\n",
    "\n",
    "# Get the fitted distribution\n",
    "distribution = fit.distribution()\n",
    "\n",
    "# Get the means of the parameters under the fitted posterior\n",
    "distribution.mean()"
   ]
  },
  {
   "cell_type": "code",
   "execution_count": 13,
   "metadata": {},
   "outputs": [
    {
     "data": {
      "text/plain": [
       "{'pi': <tf.Tensor: id=2720, shape=(1, 2), dtype=float32, numpy=array([[0.00499919, 0.00499919]], dtype=float32)>,\n",
       " 'mu': <tf.Tensor: id=2733, shape=(1, 2), dtype=float32, numpy=array([[0.00312878, 0.00321495]], dtype=float32)>,\n",
       " 'alpha': <tf.Tensor: id=2737, shape=(1, 2), dtype=float32, numpy=array([[0.4077023, 1.5630537]], dtype=float32)>}"
      ]
     },
     "execution_count": 13,
     "metadata": {},
     "output_type": "execute_result"
    }
   ],
   "source": [
    "# Get the posterior standard deviations\n",
    "distribution.stddev()"
   ]
  },
  {
   "cell_type": "markdown",
   "metadata": {},
   "source": [
    "## Variational Inference Under the Shape-Rate Parameterisation"
   ]
  },
  {
   "cell_type": "markdown",
   "metadata": {},
   "source": [
    "The traditional parameterisation for gamma distribution is the shape-rate parameterisation which this package also supports (although it is not recommended). In this case, the variational approximations to the posterior are\n",
    "\n",
    "\\begin{align*}\n",
    "q^*(\\mathbf{\\pi}) &= \\mathrm{Dirichlet} \\left( \\zeta_1, ..., \\zeta_K \\right) ,  \\\\\n",
    "q^*(\\alpha_k) &= \\mathcal{N}(\\hat{\\alpha}_k, \\sigma_k^2) , \\\\\n",
    "q^* (\\beta_k) &=  \\operatorname{Gamma} \\left( \\gamma_j, \\lambda_j \\right) .  \n",
    "\\end{align*}"
   ]
  },
  {
   "cell_type": "markdown",
   "metadata": {},
   "source": [
    "The product approximates the joint posterior\n",
    "\n",
    "\\begin{align*}\n",
    "p(\\mathbf{\\pi}, \\mathbf{\\alpha}, \\mathbf{\\beta} \\mid \\mathbf{x}) &= q^*(\\mathbf{\\pi}) \\prod_{k=1}^K q^*(\\alpha_k) q^*(\\beta_k) .\n",
    "\\end{align*}"
   ]
  },
  {
   "cell_type": "code",
   "execution_count": 14,
   "metadata": {},
   "outputs": [
    {
     "data": {
      "text/plain": [
       "{'pi': <tf.Tensor: id=2748, shape=(1, 2), dtype=float64, numpy=array([[0.50260262, 0.49739738]])>,\n",
       " 'beta': <tf.Tensor: id=2755, shape=(1, 2), dtype=float64, numpy=array([[0.04935887, 0.0256532 ]])>,\n",
       " 'alpha': <tf.Tensor: id=2759, shape=(1, 2), dtype=float64, numpy=array([[20.3168614 , 78.06337287]])>}"
      ]
     },
     "execution_count": 14,
     "metadata": {},
     "output_type": "execute_result"
    }
   ],
   "source": [
    "# Fit a model\n",
    "fit = mix_gamma_vi(x, 2, parameterisation=\"shape-rate\")\n",
    "\n",
    "# Get the fitted distribution\n",
    "distribution = fit.distribution()\n",
    "\n",
    "# Get the means of the parameters under the fitted posterior\n",
    "distribution.mean()"
   ]
  },
  {
   "cell_type": "code",
   "execution_count": 15,
   "metadata": {},
   "outputs": [
    {
     "data": {
      "text/plain": [
       "{'pi': <tf.Tensor: id=2769, shape=(1, 2), dtype=float64, numpy=array([[0.00499918, 0.00499918]])>,\n",
       " 'beta': <tf.Tensor: id=2782, shape=(1, 2), dtype=float64, numpy=array([[1.54471779e-04, 4.11686881e-05]])>,\n",
       " 'alpha': <tf.Tensor: id=2786, shape=(1, 2), dtype=float64, numpy=array([[0.06295893, 0.12455087]])>}"
      ]
     },
     "execution_count": 15,
     "metadata": {},
     "output_type": "execute_result"
    }
   ],
   "source": [
    "# Get the posterior standard deviations\n",
    "distribution.stddev()"
   ]
  },
  {
   "cell_type": "markdown",
   "metadata": {},
   "source": [
    "So, the standard deviation of $\\mathbf{\\alpha}$ under the shape-rate parameterisation is much lower than it is under the shape-mean parameterisation."
   ]
  },
  {
   "cell_type": "markdown",
   "metadata": {},
   "source": [
    "\n",
    "\n",
    "\n",
    "\n",
    "\n",
    "\n",
    "\n",
    "\n",
    "\n",
    "\n",
    "\n",
    "\n",
    "\n",
    "\n",
    "\n",
    "\n",
    "\n",
    "\n",
    "\n",
    "\n",
    "\n",
    "\n",
    "\n",
    "\n",
    "\n",
    "\n",
    "\n",
    "\n",
    "\n",
    "\n",
    "\n",
    "\n",
    "\n",
    "\n",
    "\n",
    "\n"
   ]
  }
 ],
 "metadata": {
  "kernelspec": {
   "display_name": "Python 3.7 (py37)",
   "language": "python",
   "name": "py37"
  },
  "language_info": {
   "codemirror_mode": {
    "name": "ipython",
    "version": 3
   },
   "file_extension": ".py",
   "mimetype": "text/x-python",
   "name": "python",
   "nbconvert_exporter": "python",
   "pygments_lexer": "ipython3",
   "version": "3.7.1"
  }
 },
 "nbformat": 4,
 "nbformat_minor": 2
}
