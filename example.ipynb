{
 "cells": [
  {
   "cell_type": "code",
   "execution_count": 1,
   "metadata": {},
   "outputs": [],
   "source": [
    "from mix_gamma_vi import mix_gamma_vi\n",
    "import numpy as np\n",
    "import tensorflow as tf\n",
    "import tensorflow_probability as tfp\n",
    "\n",
    "tfd = tfp.distributions\n",
    "\n",
    "import time"
   ]
  },
  {
   "cell_type": "code",
   "execution_count": 6,
   "metadata": {},
   "outputs": [],
   "source": [
    "# Generate 1000 data from a mixture of gamma two gamma distributions.\n",
    "N = 1000\n",
    "pi_true = [0.5, 0.5]\n",
    "a_true  = [20,  80 ] \n",
    "B_true  = [20,  40 ]\n",
    "\n",
    "mix_gamma = tfp.distributions.MixtureSameFamily(\n",
    "    mixture_distribution=tfd.Categorical(probs=pi_true),\n",
    "    components_distribution=tfd.Gamma(concentration=a_true, rate=B_true))\n",
    "\n",
    "x = mix_gamma.sample((N,1))"
   ]
  },
  {
   "cell_type": "code",
   "execution_count": 9,
   "metadata": {},
   "outputs": [
    {
     "name": "stdout",
     "output_type": "stream",
     "text": [
      "{'pi': <tf.Tensor: id=4032, shape=(1, 2), dtype=float32, numpy=array([[0.49459496, 0.50540507]], dtype=float32)>, 'beta': <tf.Tensor: id=4050, shape=(1, 2), dtype=float32, numpy=array([[1.0032818, 1.9982815]], dtype=float32)>, 'alpha': <tf.Tensor: id=4072, shape=(1, 2), dtype=float32, numpy=array([[20.902206, 77.34561 ]], dtype=float32)>}\n"
     ]
    }
   ],
   "source": [
    "fit = mix_gamma_vi(x, 2)\n",
    "\n",
    "distribution = fit.distribution()\n",
    "\n",
    "sample = distribution.sample()\n",
    "\n",
    "print(sample)"
   ]
  },
  {
   "cell_type": "code",
   "execution_count": 6,
   "metadata": {},
   "outputs": [
    {
     "data": {
      "text/plain": [
       "<tf.Tensor: id=241, shape=(), dtype=float32, numpy=1.0>"
      ]
     },
     "execution_count": 6,
     "metadata": {},
     "output_type": "execute_result"
    }
   ],
   "source": [
    "tf.cast(1, tf.dtypes.float32)"
   ]
  },
  {
   "cell_type": "code",
   "execution_count": null,
   "metadata": {},
   "outputs": [],
   "source": [
    "\n",
    "\n",
    "\n",
    "\n",
    "\n",
    "\n",
    "\n",
    "\n",
    "\n",
    "\n",
    "\n",
    "\n"
   ]
  }
 ],
 "metadata": {
  "kernelspec": {
   "display_name": "Python 3.7 (py37)",
   "language": "python",
   "name": "py37"
  },
  "language_info": {
   "codemirror_mode": {
    "name": "ipython",
    "version": 3
   },
   "file_extension": ".py",
   "mimetype": "text/x-python",
   "name": "python",
   "nbconvert_exporter": "python",
   "pygments_lexer": "ipython3",
   "version": "3.7.1"
  }
 },
 "nbformat": 4,
 "nbformat_minor": 2
}
